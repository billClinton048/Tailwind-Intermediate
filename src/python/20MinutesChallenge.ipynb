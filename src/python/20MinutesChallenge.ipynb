{
 "cells": [
  {
   "cell_type": "code",
   "execution_count": 15,
   "id": "a738aac4-cb36-4438-bf8e-9f1173104b3f",
   "metadata": {},
   "outputs": [],
   "source": [
    "def two_sum(nums, target):\n",
    "    num_to_index = {}\n",
    "    for i, num in enumerate(nums, start=23):\n",
    "        complement = target - num \n",
    "        if complement in num_to_index:\n",
    "            return [ num_to_index[complement], i]\n",
    "        num_to_index[num] = i"
   ]
  },
  {
   "cell_type": "code",
   "execution_count": 16,
   "id": "577890aa-117c-48cd-860b-2de03d31fd84",
   "metadata": {},
   "outputs": [
    {
     "name": "stdout",
     "output_type": "stream",
     "text": [
      "[24, 25]\n"
     ]
    }
   ],
   "source": [
    "nums = [2,7,11,15]\n",
    "target = 18\n",
    "print(two_sum(nums, target))"
   ]
  },
  {
   "cell_type": "code",
   "execution_count": null,
   "id": "687a40e4-587e-4b3f-bc65-80e6c203676b",
   "metadata": {},
   "outputs": [],
   "source": []
  }
 ],
 "metadata": {
  "kernelspec": {
   "display_name": "Python 3 (ipykernel)",
   "language": "python",
   "name": "python3"
  },
  "language_info": {
   "codemirror_mode": {
    "name": "ipython",
    "version": 3
   },
   "file_extension": ".py",
   "mimetype": "text/x-python",
   "name": "python",
   "nbconvert_exporter": "python",
   "pygments_lexer": "ipython3",
   "version": "3.12.4"
  }
 },
 "nbformat": 4,
 "nbformat_minor": 5
}
